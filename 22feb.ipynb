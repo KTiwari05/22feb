{
 "cells": [
  {
   "cell_type": "markdown",
   "id": "f23c91df-1714-4a42-80cd-e575fe2d0303",
   "metadata": {},
   "source": [
    "## Ans1)"
   ]
  },
  {
   "cell_type": "code",
   "execution_count": 1,
   "id": "a3bdc5bf-740c-49d6-94cc-0964c07548e1",
   "metadata": {},
   "outputs": [],
   "source": [
    "import pandas as pd"
   ]
  },
  {
   "cell_type": "code",
   "execution_count": 3,
   "id": "dec827a9-ed7a-4db5-952b-9f88980eb0d3",
   "metadata": {},
   "outputs": [],
   "source": [
    "data = [4,8,15,16,23,42]"
   ]
  },
  {
   "cell_type": "code",
   "execution_count": 4,
   "id": "e2e2b950-a998-4b1a-9db3-7d24d3ce5699",
   "metadata": {},
   "outputs": [],
   "source": [
    "df = pd.Series(data)"
   ]
  },
  {
   "cell_type": "code",
   "execution_count": 6,
   "id": "eafaa8e7-9c95-4803-8c31-3dbe5159136a",
   "metadata": {},
   "outputs": [
    {
     "name": "stdout",
     "output_type": "stream",
     "text": [
      "0     4\n",
      "1     8\n",
      "2    15\n",
      "3    16\n",
      "4    23\n",
      "5    42\n",
      "dtype: int64\n"
     ]
    }
   ],
   "source": [
    "print(df)"
   ]
  },
  {
   "cell_type": "markdown",
   "id": "f91576d1-56f8-4184-9c53-c0309021f8bb",
   "metadata": {},
   "source": [
    "## Ans2)"
   ]
  },
  {
   "cell_type": "code",
   "execution_count": 7,
   "id": "247c557f-0035-4c81-a1d4-63bf98376f95",
   "metadata": {},
   "outputs": [],
   "source": [
    "lis = [1,2,3,4,5,6,7,8,9,10]\n",
    "df = pd.Series(lis)"
   ]
  },
  {
   "cell_type": "code",
   "execution_count": 8,
   "id": "48edf5fb-0874-48c0-a373-2930921d9ef4",
   "metadata": {},
   "outputs": [
    {
     "name": "stdout",
     "output_type": "stream",
     "text": [
      "0     1\n",
      "1     2\n",
      "2     3\n",
      "3     4\n",
      "4     5\n",
      "5     6\n",
      "6     7\n",
      "7     8\n",
      "8     9\n",
      "9    10\n",
      "dtype: int64\n"
     ]
    }
   ],
   "source": [
    "print(df)"
   ]
  },
  {
   "cell_type": "code",
   "execution_count": 9,
   "id": "940e0fd0-31f1-488a-9646-2d724b682cbc",
   "metadata": {},
   "outputs": [
    {
     "data": {
      "text/plain": [
       "pandas.core.series.Series"
      ]
     },
     "execution_count": 9,
     "metadata": {},
     "output_type": "execute_result"
    }
   ],
   "source": [
    "type(df)"
   ]
  },
  {
   "cell_type": "markdown",
   "id": "6515e39b-fad3-477f-ac1c-47b5f69b03f2",
   "metadata": {},
   "source": [
    "## Ans 3)"
   ]
  },
  {
   "cell_type": "code",
   "execution_count": 10,
   "id": "cd09bdc7-b7b7-42c4-8539-a35a9c575993",
   "metadata": {},
   "outputs": [],
   "source": [
    "data = {'Name' : ['Alice', 'Bob','Claire'], 'Age' : [25, 30, 27], 'Gender':['Female','Male','Female']}"
   ]
  },
  {
   "cell_type": "code",
   "execution_count": 11,
   "id": "5c6b40e8-bba2-491a-8c38-492eb7dddfb3",
   "metadata": {},
   "outputs": [],
   "source": [
    "df1 = pd.DataFrame(data)"
   ]
  },
  {
   "cell_type": "code",
   "execution_count": 12,
   "id": "797b7418-0fd4-41b8-bd87-099ebf0ea7d8",
   "metadata": {},
   "outputs": [
    {
     "data": {
      "text/html": [
       "<div>\n",
       "<style scoped>\n",
       "    .dataframe tbody tr th:only-of-type {\n",
       "        vertical-align: middle;\n",
       "    }\n",
       "\n",
       "    .dataframe tbody tr th {\n",
       "        vertical-align: top;\n",
       "    }\n",
       "\n",
       "    .dataframe thead th {\n",
       "        text-align: right;\n",
       "    }\n",
       "</style>\n",
       "<table border=\"1\" class=\"dataframe\">\n",
       "  <thead>\n",
       "    <tr style=\"text-align: right;\">\n",
       "      <th></th>\n",
       "      <th>Name</th>\n",
       "      <th>Age</th>\n",
       "      <th>Gender</th>\n",
       "    </tr>\n",
       "  </thead>\n",
       "  <tbody>\n",
       "    <tr>\n",
       "      <th>0</th>\n",
       "      <td>Alice</td>\n",
       "      <td>25</td>\n",
       "      <td>Female</td>\n",
       "    </tr>\n",
       "    <tr>\n",
       "      <th>1</th>\n",
       "      <td>Bob</td>\n",
       "      <td>30</td>\n",
       "      <td>Male</td>\n",
       "    </tr>\n",
       "    <tr>\n",
       "      <th>2</th>\n",
       "      <td>Claire</td>\n",
       "      <td>27</td>\n",
       "      <td>Female</td>\n",
       "    </tr>\n",
       "  </tbody>\n",
       "</table>\n",
       "</div>"
      ],
      "text/plain": [
       "     Name  Age  Gender\n",
       "0   Alice   25  Female\n",
       "1     Bob   30    Male\n",
       "2  Claire   27  Female"
      ]
     },
     "execution_count": 12,
     "metadata": {},
     "output_type": "execute_result"
    }
   ],
   "source": [
    "df1"
   ]
  },
  {
   "cell_type": "markdown",
   "id": "ff28ff90-99af-483d-8b61-a2e463d3ec07",
   "metadata": {},
   "source": [
    "## Ans 4)"
   ]
  },
  {
   "cell_type": "code",
   "execution_count": 14,
   "id": "d076c7b9-265f-4b49-97b2-d9d4caa54f3b",
   "metadata": {},
   "outputs": [
    {
     "name": "stdout",
     "output_type": "stream",
     "text": [
      "DataFrame:\n",
      "    Name  Age      City\n",
      "0   John   25  New York\n",
      "1  Alice   30    London\n",
      "2    Bob   35     Paris\n",
      "\n",
      "Series:\n",
      "0    25\n",
      "1    30\n",
      "2    35\n",
      "Name: Age, dtype: int64\n"
     ]
    }
   ],
   "source": [
    "# In Pandas, a DataFrame is a two-dimensional labeled data structure that consists of columns of different data types.\n",
    "# On the other hand, a Series is a one-dimensional labeled data structure in Pandas.\n",
    "\n",
    "import pandas as pd\n",
    "\n",
    "# Create a DataFrame\n",
    "data = {'Name': ['John', 'Alice', 'Bob'],\n",
    "        'Age': [25, 30, 35],\n",
    "        'City': ['New York', 'London', 'Paris']}\n",
    "df = pd.DataFrame(data)\n",
    "\n",
    "# Create a Series\n",
    "ages = pd.Series([25, 30, 35], name='Age')\n",
    "\n",
    "print(\"DataFrame:\")\n",
    "print(df)\n",
    "print(\"\\nSeries:\")\n",
    "print(ages)\n"
   ]
  },
  {
   "cell_type": "markdown",
   "id": "d8b39f37-aea5-43c5-99d0-f8ee898f22af",
   "metadata": {},
   "source": [
    "## Ans5)"
   ]
  },
  {
   "cell_type": "code",
   "execution_count": null,
   "id": "3f41f7a8-61ac-432e-bbb3-967b14d7dfdc",
   "metadata": {},
   "outputs": [],
   "source": [
    "# common function for manipulating data\n",
    "# head(), tail(), info(), describe(), fillna(), etc\n",
    "\n",
    "# Example\n",
    "df.sort_values('column_name', ascending=False)  # Sorts the DataFrame by a column in descending order\n",
    "# Example\n",
    "df.groupby('column_name').mean()  # Groups the DataFrame by a column and calculates the mean of each group\n"
   ]
  },
  {
   "cell_type": "markdown",
   "id": "7c3f4c44-489b-4dc4-a04d-373a948b6b39",
   "metadata": {},
   "source": [
    "## Ans6)"
   ]
  },
  {
   "cell_type": "code",
   "execution_count": 15,
   "id": "9f0c81e9-7bc1-442b-9758-f85295d61929",
   "metadata": {},
   "outputs": [],
   "source": [
    "#In Pandas, both Series and DataFrame are mutable, while Panel is no longer recommended for use and has been deprecated since version 0.20.0.\n",
    "\n",
    "# Series: A Series is mutable, meaning you can modify its elements, change the index labels, and update the values.\n",
    "\n",
    "# DataFrame: A DataFrame is also mutable, allowing you to modify its columns, add or remove columns, change values, and perform various data manipulations.\n",
    "\n",
    "## Panel: Panel was a three-dimensional data structure in Pandas that could hold multiple DataFrames, but it has been deprecated in favor of other data structures like MultiIndex DataFrame or xarray. Panels are not mutable in nature."
   ]
  },
  {
   "cell_type": "markdown",
   "id": "6910e48d-3493-4940-b93d-d3776f764a48",
   "metadata": {},
   "source": [
    "## Ans7)"
   ]
  },
  {
   "cell_type": "code",
   "execution_count": 16,
   "id": "1e00710a-c14c-4fdb-a5f0-3a706d768540",
   "metadata": {},
   "outputs": [
    {
     "name": "stdout",
     "output_type": "stream",
     "text": [
      "    Name  Age      City\n",
      "0   John   25  New York\n",
      "1  Alice   30    London\n",
      "2    Bob   35     Paris\n"
     ]
    }
   ],
   "source": [
    "import pandas as pd\n",
    "\n",
    "# Create Series\n",
    "name_series = pd.Series(['John', 'Alice', 'Bob'])\n",
    "age_series = pd.Series([25, 30, 35])\n",
    "city_series = pd.Series(['New York', 'London', 'Paris'])\n",
    "\n",
    "# Create DataFrame using Series\n",
    "data = {'Name': name_series, 'Age': age_series, 'City': city_series}\n",
    "df = pd.DataFrame(data)\n",
    "\n",
    "print(df)\n"
   ]
  },
  {
   "cell_type": "code",
   "execution_count": null,
   "id": "3a11f336-53d9-4584-9ae6-a9db36b2bd4f",
   "metadata": {},
   "outputs": [],
   "source": []
  }
 ],
 "metadata": {
  "kernelspec": {
   "display_name": "Python 3 (ipykernel)",
   "language": "python",
   "name": "python3"
  },
  "language_info": {
   "codemirror_mode": {
    "name": "ipython",
    "version": 3
   },
   "file_extension": ".py",
   "mimetype": "text/x-python",
   "name": "python",
   "nbconvert_exporter": "python",
   "pygments_lexer": "ipython3",
   "version": "3.10.8"
  }
 },
 "nbformat": 4,
 "nbformat_minor": 5
}
